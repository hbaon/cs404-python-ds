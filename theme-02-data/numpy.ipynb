{
 "cells": [
  {
   "cell_type": "code",
   "execution_count": 2,
   "metadata": {},
   "outputs": [],
   "source": [
    "import numpy as np"
   ]
  },
  {
   "cell_type": "code",
   "execution_count": 8,
   "metadata": {},
   "outputs": [
    {
     "name": "stdout",
     "output_type": "stream",
     "text": [
      "(35,)\n",
      "[185.  184.8 184.6 184.4 184.2 184.  183.8 183.6 183.4 183.2 183.  182.8\n",
      " 182.6 182.4 182.2 182.  181.8 181.6 181.4 181.2 181.  180.8 180.6 180.4\n",
      " 180.2 180.  179.8 179.6 179.4 179.2 179.  178.8 178.6 178.4 178.2]\n"
     ]
    }
   ],
   "source": [
    "# Source: https://www.practiceprobs.com/problemsets/python-numpy/beginner/high-school-reunion/\n",
    "dailywts = 185 - np.arange(35) / 5\n",
    "print(dailywts.shape)\n",
    "print(dailywts)"
   ]
  },
  {
   "cell_type": "code",
   "execution_count": 10,
   "metadata": {},
   "outputs": [
    {
     "name": "stdout",
     "output_type": "stream",
     "text": [
      "[np.float64(181.2), np.float64(181.0)]\n"
     ]
    }
   ],
   "source": [
    "# avgwts = [0 for i in range(10)]\n",
    "avgwts = [0, 0]\n",
    "for i in range(0, 5):\n",
    "    avgwts[0] += dailywts[i * 7 + 5]\n",
    "    avgwts[1] += dailywts[i * 7 + 6]\n",
    "avgwts[0] /= 5\n",
    "avgwts[1] /= 5\n",
    "print(avgwts)"
   ]
  },
  {
   "cell_type": "code",
   "execution_count": 13,
   "metadata": {},
   "outputs": [
    {
     "data": {
      "text/plain": [
       "(array([184. , 182.6, 181.2, 179.8, 178.4]),\n",
       " array([183.8, 182.4, 181. , 179.6, 178.2]))"
      ]
     },
     "execution_count": 13,
     "metadata": {},
     "output_type": "execute_result"
    }
   ],
   "source": [
    "dailywts[5::7], dailywts[6::7]"
   ]
  },
  {
   "cell_type": "code",
   "execution_count": 14,
   "metadata": {},
   "outputs": [
    {
     "data": {
      "text/plain": [
       "array([183.9, 182.5, 181.1, 179.7, 178.3])"
      ]
     },
     "execution_count": 14,
     "metadata": {},
     "output_type": "execute_result"
    }
   ],
   "source": [
    "(dailywts[5::7] + dailywts[6::7]) / 2"
   ]
  },
  {
   "cell_type": "code",
   "execution_count": 23,
   "metadata": {},
   "outputs": [
    {
     "name": "stdout",
     "output_type": "stream",
     "text": [
      "[array([ 1,  3,  5,  7,  9, 11, 13]), array([17, 19, 21, 23, 25, 27, 29]), array([33, 35, 37, 39, 41, 43, 45]), array([49, 51, 53, 55, 57, 59, 61])]\n"
     ]
    }
   ],
   "source": [
    "n, m = 2, 3\n",
    "# arr = [[0 for i in range(m)] for j in range(n) ]\n",
    "# print(arr)\n",
    "arr = [[] for i in range(4)]\n",
    "arr[0] = np.arange(1, 14, 2)\n",
    "arr[1] = np.arange(17, 30, 2)\n",
    "arr[2] = np.arange(33, 46, 2)\n",
    "arr[3] = np.arange(49, 62, 2)\n",
    "print(arr)"
   ]
  },
  {
   "cell_type": "code",
   "execution_count": 26,
   "metadata": {},
   "outputs": [
    {
     "name": "stdout",
     "output_type": "stream",
     "text": [
      "[array([ 1,  3,  5,  7,  9, 11, 13]), array([17, 19, 21, 23, 25, 27, 29]), array([33, 35, 37, 39, 41, 43, 45]), array([49, 51, 53, 55, 57, 59, 61])]\n"
     ]
    }
   ],
   "source": [
    "# Source: https://www.practiceprobs.com/problemsets/python-numpy/beginner/nola/\n",
    "arr = [[] for i in range(4)]\n",
    "for i in range(0, 4):\n",
    "    sbd = int((16 * i) + 1)\n",
    "    skt = int(sbd + 13)\n",
    "    arr[i] = np.arange(sbd, skt, 2)\n",
    "print(arr)"
   ]
  },
  {
   "cell_type": "code",
   "execution_count": 47,
   "metadata": {},
   "outputs": [
    {
     "name": "stdout",
     "output_type": "stream",
     "text": [
      "[[ 1  3  5  7  9 11 13]\n",
      " [17 19 21 23 25 27 29]\n",
      " [33 35 37 39 41 43 45]\n",
      " [49 51 53 55 57 59 61]]\n"
     ]
    }
   ],
   "source": [
    "arr1 = np.arange(1, 64, 2).reshape(4, -1)\n",
    "arr2 = arr1[:, :-1]\n",
    "print(arr2)"
   ]
  },
  {
   "cell_type": "code",
   "execution_count": 60,
   "metadata": {},
   "outputs": [
    {
     "name": "stdout",
     "output_type": "stream",
     "text": [
      "[[2 3 0 5 2 0 3]\n",
      " [8 8 0 7 1 5 3]\n",
      " [0 1 6 2 1 4 5]\n",
      " [4 0 8 9 9 8 7]\n",
      " [4 2 7 0 7 2 1]\n",
      " [9 8 9 2 5 0 8]\n",
      " [1 9 8 2 6 4 3]]\n",
      "[0 1 2 3 4 5 6 7 8 9]\n"
     ]
    }
   ],
   "source": [
    "np.random.seed(5555)\n",
    "gold = np.random.randint(low=0, high=10, size=(7,7))\n",
    "print(gold)\n",
    "print(np.unique(gold))"
   ]
  },
  {
   "cell_type": "code",
   "execution_count": 68,
   "metadata": {},
   "outputs": [
    {
     "name": "stdout",
     "output_type": "stream",
     "text": [
      "[[2 3 0 5 2 0 3]\n",
      " [8 8 0 7 1 5 3]\n",
      " [0 1 6 2 1 4 5]\n",
      " [4 0 8 9 9 8 7]\n",
      " [4 2 7 0 7 2 1]\n",
      " [9 8 9 2 5 0 8]\n",
      " [1 9 8 2 6 4 3]]\n",
      "\n",
      "Values at the specified locations:\n",
      "[2 6 2 8 2]\n"
     ]
    }
   ],
   "source": [
    "# Source: https://www.practiceprobs.com/problemsets/python-numpy/beginner/gold-miner/\n",
    "np.random.seed(5555)\n",
    "gold = np.random.randint(low=0, high=10, size=(7,7))\n",
    "print(gold)\n",
    "\n",
    "locs = np.array([\n",
    "    [0,4],\n",
    "    [2,2],\n",
    "    [2,3],\n",
    "    [5,1],\n",
    "    [6,3]\n",
    "])\n",
    "\n",
    "\n",
    "# Extract the values at the specific locations\n",
    "values_at_locs = gold[locs[:, 0], locs[:, 1]]\n",
    "\n",
    "print(\"\\nValues at the specified locations:\")\n",
    "print(values_at_locs)"
   ]
  },
  {
   "cell_type": "code",
   "execution_count": 69,
   "metadata": {},
   "outputs": [
    {
     "data": {
      "text/plain": [
       "(array([0, 2, 2, 5, 6]), array([4, 2, 3, 1, 3]))"
      ]
     },
     "execution_count": 69,
     "metadata": {},
     "output_type": "execute_result"
    }
   ],
   "source": [
    "locs[:, 0], locs[:, 1]"
   ]
  },
  {
   "cell_type": "code",
   "execution_count": 89,
   "metadata": {},
   "outputs": [
    {
     "name": "stdout",
     "output_type": "stream",
     "text": [
      "[9, 0, 4, 0, 1]\n",
      "[0, 16, 0, 9, 0, 4, 0, 1]\n",
      "[0, 36, 0, 25, 0, 16, 0, 9, 0, 4, 0, 1]\n"
     ]
    }
   ],
   "source": [
    "# Source: https://www.practiceprobs.com/problemsets/python-numpy/beginner/roux/\n",
    "def make_roux(n):\n",
    "    \"\"\"returns a roux array of length n\"\"\"\n",
    "    arr = [0] * n\n",
    "    lastnum = (n + 1) // 2\n",
    "    add_index = 1 if n % 2 == 0 else 0\n",
    "    for i in range(0, lastnum):\n",
    "        arr[2 * i + add_index] = ( (lastnum -i)) ** 2\n",
    "       \n",
    "    return arr\n",
    "print(make_roux(5)) \n",
    "print(make_roux(8))\n",
    "print(make_roux(12))\n"
   ]
  },
  {
   "cell_type": "code",
   "execution_count": 105,
   "metadata": {},
   "outputs": [
    {
     "name": "stdout",
     "output_type": "stream",
     "text": [
      "7.5\n",
      "4.0\n"
     ]
    }
   ],
   "source": [
    "# Source: https://www.practiceprobs.com/problemsets/python-numpy/beginner/chic-fil-a/\n",
    "listabc1 = np.linspace(17, 28, 3)\n",
    "listabc2 = np.linspace(32, 36, 3)\n",
    "print(30 - listabc1[1])\n",
    "print(abs(30 - listabc2[1]))"
   ]
  },
  {
   "cell_type": "code",
   "execution_count": 98,
   "metadata": {},
   "outputs": [
    {
     "data": {
      "text/plain": [
       "array([17.        , 20.66666667, 24.33333333, 28.        ])"
      ]
     },
     "execution_count": 98,
     "metadata": {},
     "output_type": "execute_result"
    }
   ],
   "source": [
    "np.linspace(17, 28, 4)"
   ]
  },
  {
   "cell_type": "code",
   "execution_count": 100,
   "metadata": {},
   "outputs": [
    {
     "data": {
      "text/plain": [
       "array([0., 3., 6., 9.])"
      ]
     },
     "execution_count": 100,
     "metadata": {},
     "output_type": "execute_result"
    }
   ],
   "source": [
    "np.linspace(0, 9, 4)"
   ]
  },
  {
   "cell_type": "code",
   "execution_count": 106,
   "metadata": {},
   "outputs": [
    {
     "name": "stdout",
     "output_type": "stream",
     "text": [
      "[ 9.5  53.58 91.77 98.15 84.88 74.61 40.94 56.49  8.39 64.69]\n"
     ]
    }
   ],
   "source": [
    "# Source: https://www.practiceprobs.com/problemsets/python-numpy/intermediate/love-distance/\n",
    "generator = np.random.default_rng(1010)\n",
    "love_scores = np.round(generator.uniform(low=0, high=100, size=10), 2)\n",
    "\n",
    "print(love_scores)\n",
    "# [ 9.5  53.58 91.77 98.15 84.88 74.61 40.94 56.49  8.39 64.69]"
   ]
  },
  {
   "cell_type": "code",
   "execution_count": 109,
   "metadata": {},
   "outputs": [
    {
     "name": "stdout",
     "output_type": "stream",
     "text": [
      "[[ 0.   44.08 82.27 88.65 75.38 65.11 31.44 46.99  1.11 55.19]\n",
      " [44.08  0.   38.19 44.57 31.3  21.03 12.64  2.91 45.19 11.11]\n",
      " [82.27 38.19  0.    6.38  6.89 17.16 50.83 35.28 83.38 27.08]\n",
      " [88.65 44.57  6.38  0.   13.27 23.54 57.21 41.66 89.76 33.46]\n",
      " [75.38 31.3   6.89 13.27  0.   10.27 43.94 28.39 76.49 20.19]\n",
      " [65.11 21.03 17.16 23.54 10.27  0.   33.67 18.12 66.22  9.92]\n",
      " [31.44 12.64 50.83 57.21 43.94 33.67  0.   15.55 32.55 23.75]\n",
      " [46.99  2.91 35.28 41.66 28.39 18.12 15.55  0.   48.1   8.2 ]\n",
      " [ 1.11 45.19 83.38 89.76 76.49 66.22 32.55 48.1   0.   56.3 ]\n",
      " [55.19 11.11 27.08 33.46 20.19  9.92 23.75  8.2  56.3   0.  ]]\n"
     ]
    }
   ],
   "source": [
    "\n",
    "lovescore2 = love_scores.reshape(10, 1)\n",
    "lovescore3 = abs(lovescore2 - love_scores)\n",
    "print(lovescore3)"
   ]
  },
  {
   "cell_type": "code",
   "execution_count": 112,
   "metadata": {},
   "outputs": [
    {
     "data": {
      "text/plain": [
       "array([[ 0.  , 44.08, 82.27, 88.65, 75.38, 65.11, 31.44, 46.99,  1.11,\n",
       "        55.19],\n",
       "       [44.08,  0.  , 38.19, 44.57, 31.3 , 21.03, 12.64,  2.91, 45.19,\n",
       "        11.11],\n",
       "       [82.27, 38.19,  0.  ,  6.38,  6.89, 17.16, 50.83, 35.28, 83.38,\n",
       "        27.08],\n",
       "       [88.65, 44.57,  6.38,  0.  , 13.27, 23.54, 57.21, 41.66, 89.76,\n",
       "        33.46],\n",
       "       [75.38, 31.3 ,  6.89, 13.27,  0.  , 10.27, 43.94, 28.39, 76.49,\n",
       "        20.19],\n",
       "       [65.11, 21.03, 17.16, 23.54, 10.27,  0.  , 33.67, 18.12, 66.22,\n",
       "         9.92],\n",
       "       [31.44, 12.64, 50.83, 57.21, 43.94, 33.67,  0.  , 15.55, 32.55,\n",
       "        23.75],\n",
       "       [46.99,  2.91, 35.28, 41.66, 28.39, 18.12, 15.55,  0.  , 48.1 ,\n",
       "         8.2 ],\n",
       "       [ 1.11, 45.19, 83.38, 89.76, 76.49, 66.22, 32.55, 48.1 ,  0.  ,\n",
       "        56.3 ],\n",
       "       [55.19, 11.11, 27.08, 33.46, 20.19,  9.92, 23.75,  8.2 , 56.3 ,\n",
       "         0.  ]])"
      ]
     },
     "execution_count": 112,
     "metadata": {},
     "output_type": "execute_result"
    }
   ],
   "source": [
    "np.abs(love_scores[:, np.newaxis] - love_scores)"
   ]
  },
  {
   "cell_type": "code",
   "execution_count": 118,
   "metadata": {},
   "outputs": [
    {
     "name": "stdout",
     "output_type": "stream",
     "text": [
      "[68.  0. 76.  0.  0. 54. 63. 64. 36. 88. 80. 82. 84. 76. 42.]\n"
     ]
    }
   ],
   "source": [
    "# Source: https://www.practiceprobs.com/problemsets/python-numpy/intermediate/professor-prick/\n",
    "import numpy as np\n",
    "\n",
    "generator = np.random.default_rng(80085)\n",
    "scores = np.round(generator.uniform(low=30, high=100, size=15))\n",
    "\n",
    "dem = 0\n",
    "for i in range(0, len(scores)):\n",
    "    if scores[i] <= 60: \n",
    "        scores[i] = 0\n",
    "        dem += 1\n",
    "    if dem == 3: \n",
    "        break\n",
    "print(scores)\n",
    "# [68. 36. 76. 57. 56. 54. 63. 64. 36. 88. 80. 82. 84. 76. 42.]"
   ]
  },
  {
   "cell_type": "code",
   "execution_count": 123,
   "metadata": {},
   "outputs": [
    {
     "data": {
      "text/plain": [
       "array([68.,  0., 76.,  0.,  0., 54., 63., 64., 36., 88., 80., 82., 84.,\n",
       "       76., 42.])"
      ]
     },
     "execution_count": 123,
     "metadata": {},
     "output_type": "execute_result"
    }
   ],
   "source": [
    "below_60 = np.where(scores <= 60)[0]\n",
    "scores[below_60][:3]\n",
    "scores"
   ]
  },
  {
   "cell_type": "code",
   "execution_count": null,
   "metadata": {},
   "outputs": [],
   "source": [
    "# Source: https://www.practiceprobs.com/problemsets/python-numpy/intermediate/psycho-parent/\n",
    "import numpy as np\n",
    "\n",
    "field = np.zeros(shape = (10, 10))\n",
    "\n",
    "print(field)\n",
    "# [[0. 0. 0. 0. 0. 0. 0. 0. 0. 0.]\n",
    "#  [0. 0. 0. 0. 0. 0. 0. 0. 0. 0.]\n",
    "#  [0. 0. 0. 0. 0. 0. 0. 0. 0. 0.]\n",
    "#  [0. 0. 0. 0. 0. 0. 0. 0. 0. 0.]\n",
    "#  [0. 0. 0. 0. 0. 0. 0. 0. 0. 0.]\n",
    "#  [0. 0. 0. 0. 0. 0. 0. 0. 0. 0.]\n",
    "#  [0. 0. 0. 0. 0. 0. 0. 0. 0. 0.]\n",
    "#  [0. 0. 0. 0. 0. 0. 0. 0. 0. 0.]\n",
    "#  [0. 0. 0. 0. 0. 0. 0. 0. 0. 0.]\n",
    "#  [0. 0. 0. 0. 0. 0. 0. 0. 0. 0.]]\n",
    "ran_pos = np.random.choice(field.size, size = 20, replace = False)\n",
    "ran_val = np.random.normal(loc = 0, scale = 1, size = 20)\n",
    "# print(ran_val)\n",
    "field.ravel()[ran_pos] = ran_val\n",
    "print(ran_pos)\n"
   ]
  }
 ],
 "metadata": {
  "kernelspec": {
   "display_name": "ds",
   "language": "python",
   "name": "python3"
  },
  "language_info": {
   "codemirror_mode": {
    "name": "ipython",
    "version": 3
   },
   "file_extension": ".py",
   "mimetype": "text/x-python",
   "name": "python",
   "nbconvert_exporter": "python",
   "pygments_lexer": "ipython3",
   "version": "3.10.16"
  }
 },
 "nbformat": 4,
 "nbformat_minor": 2
}
